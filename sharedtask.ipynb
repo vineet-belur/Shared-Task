{
 "cells": [
  {
   "cell_type": "code",
   "execution_count": 26,
   "metadata": {},
   "outputs": [],
   "source": [
    "import torch\n",
    "import numpy as np\n",
    "import pandas as pd\n",
    "from transformers import BertModel\n",
    "from datasets import Dataset, DatasetDict\n",
    "from transformers import BertTokenizer, AutoTokenizer\n",
    "import numpy as np\n",
    "from sklearn.multioutput import MultiOutputClassifier\n",
    "from sklearn.linear_model import LogisticRegression\n",
    "from sklearn.metrics import classification_report\n",
    "from transformers import AutoModelForSequenceClassification, Trainer, TrainerCallback, TrainingArguments, DataCollatorWithPadding\n",
    "import copy"
   ]
  },
  {
   "cell_type": "code",
   "execution_count": 27,
   "metadata": {},
   "outputs": [],
   "source": [
    "train_data = pd.read_csv('input/arguments-training.tsv', sep=\"\\t\")\n",
    "val_data = pd.read_csv('input/arguments-validation.tsv', sep=\"\\t\")\n",
    "train_labels = pd.read_csv('input/labels-training.tsv', sep=\"\\t\")\n",
    "val_labels = pd.read_csv('input/labels-validation.tsv', sep=\"\\t\")"
   ]
  },
  {
   "cell_type": "code",
   "execution_count": 28,
   "metadata": {},
   "outputs": [],
   "source": [
    "train_data['combined1'] = train_data.Conclusion.str.cat(train_data.Stance, sep=' [SEP] ')\n",
    "train_data['combined2'] = train_data.combined1.str.cat(train_data.Premise, sep=' [SEP] ')\n",
    "val_data['combined1'] = val_data.Conclusion.str.cat(val_data.Stance, sep=' [SEP] ')\n",
    "val_data['combined2'] = val_data.combined1.str.cat(val_data.Premise, sep=' [SEP] ')"
   ]
  },
  {
   "cell_type": "code",
   "execution_count": 29,
   "metadata": {},
   "outputs": [
    {
     "data": {
      "text/plain": [
       "[['We should ban naturopathy [SEP] against [SEP] it provides a useful income for some people',\n",
       "  'We should ban fast food [SEP] in favor of [SEP] fast food should be banned because it is really bad for your health and is costly.'],\n",
       " [\"Surrogacy should be banned [SEP] against [SEP] Surrogacy should not be banned as it is the woman's right to choose if she wishes to do this for another couple and be compensated.\",\n",
       "  'Entrapment should be legalized [SEP] against [SEP] entrapment is gravely immoral and against human rights to coerce someone into a crime'],\n",
       " [['A01004', 0, 0, 0, 0, 0, 0, 0, 0, 1, 0, 0, 0, 0, 0, 0, 0, 0, 0, 0, 0],\n",
       "  ['A01005', 0, 0, 0, 0, 0, 0, 0, 0, 1, 0, 0, 0, 0, 0, 0, 0, 0, 0, 0, 0]],\n",
       " [['A02002', 0, 1, 0, 0, 0, 0, 0, 0, 0, 0, 0, 0, 0, 0, 0, 0, 0, 0, 0, 0],\n",
       "  ['A02009', 0, 0, 0, 0, 0, 0, 0, 0, 0, 0, 0, 1, 0, 0, 0, 0, 1, 0, 0, 1]]]"
      ]
     },
     "execution_count": 29,
     "metadata": {},
     "output_type": "execute_result"
    }
   ],
   "source": [
    "combined = train_data.combined2.values.tolist()\n",
    "val_combined = val_data.combined2.values.tolist()\n",
    "label_list = train_labels.values.tolist()\n",
    "val_label_list = val_labels.values.tolist()\n",
    "[x[3:5] for x in [combined, val_combined, label_list, val_label_list]]"
   ]
  },
  {
   "cell_type": "code",
   "execution_count": 30,
   "metadata": {},
   "outputs": [],
   "source": [
    "def gen_tokens(combined, val_combined): #best to functionalize, this function is quite slow so lets not call it on every kernel restart.\n",
    "    symbols = []\n",
    "    for each in combined:\n",
    "        ids = tok(each, add_special_tokens=True, padding=\"max_length\", return_tensors='pt')\n",
    "        symbols.append(ids)\n",
    "\n",
    "    val_symbols = []\n",
    "    for each in val_combined:\n",
    "        ids = tok(each, add_special_tokens=True, padding=\"max_length\", return_tensors='pt')\n",
    "        val_symbols.append(ids)\n",
    "\n",
    "    bert = BertModel.from_pretrained(\"prajjwal1/bert-small\")\n",
    "\n",
    "    X = []\n",
    "    for s in symbols:\n",
    "        encoded_sequence = bert(**s)\n",
    "        bert_output = encoded_sequence.pooler_output\n",
    "        output = torch.unsqueeze(bert_output,1)\n",
    "        X.append(output[0][0].tolist())\n",
    "    print(len(X),X[0])\n",
    "    X_val = []\n",
    "    for s in val_symbols:\n",
    "        encoded_sequence = bert(**s)\n",
    "        bert_output = encoded_sequence.pooler_output\n",
    "        output = torch.unsqueeze(bert_output,1)\n",
    "        X_val.append(output[0][0].tolist())\n",
    "    print(np.array(label_list).shape)\n",
    "    \n",
    "    clf = MultiOutputClassifier(LogisticRegression(max_iter=1000)).fit(X, np.array(label_list)) \n",
    "    p = clf.predict(X_val)\n",
    "    print(classification_report(val_label_list, p))\n",
    "    return p \n",
    "# gen_tokens(combined, val_combined)"
   ]
  },
  {
   "cell_type": "markdown",
   "metadata": {},
   "source": [
    "Lets generate a list of labels to feed into our model."
   ]
  },
  {
   "cell_type": "code",
   "execution_count": 31,
   "metadata": {},
   "outputs": [
    {
     "data": {
      "text/plain": [
       "(Index(['combined2', 'Self-direction: thought', 'Self-direction: action',\n",
       "        'Stimulation', 'Hedonism', 'Achievement', 'Power: dominance',\n",
       "        'Power: resources', 'Face', 'Security: personal', 'Security: societal',\n",
       "        'Tradition', 'Conformity: rules', 'Conformity: interpersonal',\n",
       "        'Humility', 'Benevolence: caring', 'Benevolence: dependability',\n",
       "        'Universalism: concern', 'Universalism: nature',\n",
       "        'Universalism: tolerance', 'Universalism: objectivity'],\n",
       "       dtype='object'),\n",
       " Index(['combined2', 'Self-direction: thought', 'Self-direction: action',\n",
       "        'Stimulation', 'Hedonism', 'Achievement', 'Power: dominance',\n",
       "        'Power: resources', 'Face', 'Security: personal', 'Security: societal',\n",
       "        'Tradition', 'Conformity: rules', 'Conformity: interpersonal',\n",
       "        'Humility', 'Benevolence: caring', 'Benevolence: dependability',\n",
       "        'Universalism: concern', 'Universalism: nature',\n",
       "        'Universalism: tolerance', 'Universalism: objectivity'],\n",
       "       dtype='object'))"
      ]
     },
     "execution_count": 31,
     "metadata": {},
     "output_type": "execute_result"
    }
   ],
   "source": [
    "#lets generate Dataset objects so we can feed it into huggingface.Trainer\n",
    "valid_data = val_data.merge(val_labels, how = 'left', on = 'Argument ID')\n",
    "t_data = train_data.merge(train_labels, how = 'left', on = 'Argument ID')\n",
    "\n",
    "if 'Argument ID' in valid_data.columns: valid_data.drop(['Argument ID', 'Conclusion', 'Stance', 'Premise', 'combined1'], axis=1, inplace=True)\n",
    "if 'Argument ID' in t_data.columns: t_data.drop(['Argument ID', 'Conclusion', 'Stance', 'Premise', 'combined1'],axis=1, inplace=True)\n",
    "valid_data.columns, t_data.columns"
   ]
  },
  {
   "cell_type": "code",
   "execution_count": 32,
   "metadata": {},
   "outputs": [
    {
     "name": "stdout",
     "output_type": "stream",
     "text": [
      "['Self-direction: thought', 'Self-direction: action', 'Stimulation', 'Hedonism', 'Achievement', 'Power: dominance', 'Power: resources', 'Face', 'Security: personal', 'Security: societal', 'Tradition', 'Conformity: rules', 'Conformity: interpersonal', 'Humility', 'Benevolence: caring', 'Benevolence: dependability', 'Universalism: concern', 'Universalism: nature', 'Universalism: tolerance', 'Universalism: objectivity']\n"
     ]
    }
   ],
   "source": [
    "#huggingface dataset.from_pandas for ex.\n",
    "\n",
    "train_to_dataset = Dataset.from_pandas(t_data)\n",
    "val_to_dataset = Dataset.from_pandas(valid_data)\n",
    "dataset = DatasetDict({ \"train\": train_to_dataset, \"validation\": val_to_dataset})\n",
    "labels = list(valid_data.columns)\n",
    "labels = labels[1:] #ignore combined2\n",
    "print(labels)\n",
    "id2label = {idx:label for idx, label in enumerate(labels)}\n",
    "label2id = {label:idx for idx, label in enumerate(labels)}\n"
   ]
  },
  {
   "cell_type": "code",
   "execution_count": 33,
   "metadata": {},
   "outputs": [
    {
     "name": "stderr",
     "output_type": "stream",
     "text": [
      "loading configuration file config.json from cache at /Users/vbelur/.cache/huggingface/hub/models--bert-base-uncased/snapshots/0a6aa9128b6194f4f3c4db429b6cb4891cdb421b/config.json\n",
      "Model config BertConfig {\n",
      "  \"_name_or_path\": \"bert-base-uncased\",\n",
      "  \"architectures\": [\n",
      "    \"BertForMaskedLM\"\n",
      "  ],\n",
      "  \"attention_probs_dropout_prob\": 0.1,\n",
      "  \"classifier_dropout\": null,\n",
      "  \"gradient_checkpointing\": false,\n",
      "  \"hidden_act\": \"gelu\",\n",
      "  \"hidden_dropout_prob\": 0.1,\n",
      "  \"hidden_size\": 768,\n",
      "  \"initializer_range\": 0.02,\n",
      "  \"intermediate_size\": 3072,\n",
      "  \"layer_norm_eps\": 1e-12,\n",
      "  \"max_position_embeddings\": 512,\n",
      "  \"model_type\": \"bert\",\n",
      "  \"num_attention_heads\": 12,\n",
      "  \"num_hidden_layers\": 12,\n",
      "  \"pad_token_id\": 0,\n",
      "  \"position_embedding_type\": \"absolute\",\n",
      "  \"transformers_version\": \"4.25.1\",\n",
      "  \"type_vocab_size\": 2,\n",
      "  \"use_cache\": true,\n",
      "  \"vocab_size\": 30522\n",
      "}\n",
      "\n",
      "loading file vocab.txt from cache at /Users/vbelur/.cache/huggingface/hub/models--bert-base-uncased/snapshots/0a6aa9128b6194f4f3c4db429b6cb4891cdb421b/vocab.txt\n",
      "loading file tokenizer.json from cache at /Users/vbelur/.cache/huggingface/hub/models--bert-base-uncased/snapshots/0a6aa9128b6194f4f3c4db429b6cb4891cdb421b/tokenizer.json\n",
      "loading file added_tokens.json from cache at None\n",
      "loading file special_tokens_map.json from cache at None\n",
      "loading file tokenizer_config.json from cache at /Users/vbelur/.cache/huggingface/hub/models--bert-base-uncased/snapshots/0a6aa9128b6194f4f3c4db429b6cb4891cdb421b/tokenizer_config.json\n",
      "loading configuration file config.json from cache at /Users/vbelur/.cache/huggingface/hub/models--bert-base-uncased/snapshots/0a6aa9128b6194f4f3c4db429b6cb4891cdb421b/config.json\n",
      "Model config BertConfig {\n",
      "  \"_name_or_path\": \"bert-base-uncased\",\n",
      "  \"architectures\": [\n",
      "    \"BertForMaskedLM\"\n",
      "  ],\n",
      "  \"attention_probs_dropout_prob\": 0.1,\n",
      "  \"classifier_dropout\": null,\n",
      "  \"gradient_checkpointing\": false,\n",
      "  \"hidden_act\": \"gelu\",\n",
      "  \"hidden_dropout_prob\": 0.1,\n",
      "  \"hidden_size\": 768,\n",
      "  \"initializer_range\": 0.02,\n",
      "  \"intermediate_size\": 3072,\n",
      "  \"layer_norm_eps\": 1e-12,\n",
      "  \"max_position_embeddings\": 512,\n",
      "  \"model_type\": \"bert\",\n",
      "  \"num_attention_heads\": 12,\n",
      "  \"num_hidden_layers\": 12,\n",
      "  \"pad_token_id\": 0,\n",
      "  \"position_embedding_type\": \"absolute\",\n",
      "  \"transformers_version\": \"4.25.1\",\n",
      "  \"type_vocab_size\": 2,\n",
      "  \"use_cache\": true,\n",
      "  \"vocab_size\": 30522\n",
      "}\n",
      "\n"
     ]
    }
   ],
   "source": [
    "tokenizer = AutoTokenizer.from_pretrained(\"bert-base-uncased\")\n",
    "#from huggingface docu\n",
    "def preprocess(items):\n",
    "  combined = items['combined2']\n",
    "  encoding = tokenizer(combined, padding=\"max_length\", truncation=True, max_length=128)\n",
    "\n",
    "  l_b = {k: items[k] for k in items.keys() if k in labels}\n",
    "  # create numpy array of shape (batch_size, num_labels)\n",
    "  print(len(combined))\n",
    "  labels_mat = np.zeros((len(combined), len(labels)))\n",
    "  # fill numpy array\n",
    "  for idx, label in enumerate(labels):\n",
    "    labels_mat[:, idx] = l_b[label]\n",
    "\n",
    "  encoding[\"labels\"] = labels_mat.tolist()\n",
    "  \n",
    "  return encoding"
   ]
  },
  {
   "cell_type": "code",
   "execution_count": 34,
   "metadata": {},
   "outputs": [
    {
     "data": {
      "application/vnd.jupyter.widget-view+json": {
       "model_id": "2b58c9c4247c49249e376f1cdc8d534f",
       "version_major": 2,
       "version_minor": 0
      },
      "text/plain": [
       "  0%|          | 0/6 [00:00<?, ?ba/s]"
      ]
     },
     "metadata": {},
     "output_type": "display_data"
    },
    {
     "name": "stdout",
     "output_type": "stream",
     "text": [
      "1000\n",
      "1000\n",
      "1000\n",
      "1000\n",
      "1000\n",
      "220\n"
     ]
    },
    {
     "data": {
      "application/vnd.jupyter.widget-view+json": {
       "model_id": "91e2611a06224a65b56b93fd6588aef8",
       "version_major": 2,
       "version_minor": 0
      },
      "text/plain": [
       "  0%|          | 0/2 [00:00<?, ?ba/s]"
      ]
     },
     "metadata": {},
     "output_type": "display_data"
    },
    {
     "name": "stdout",
     "output_type": "stream",
     "text": [
      "1000\n",
      "896\n"
     ]
    }
   ],
   "source": [
    "dataset_cop = copy.deepcopy(dataset)\n",
    "encoded_dataset = dataset_cop.map(preprocess, batched=True,remove_columns=dataset['train'].column_names)"
   ]
  },
  {
   "cell_type": "code",
   "execution_count": 35,
   "metadata": {},
   "outputs": [
    {
     "data": {
      "text/plain": [
       "datasets.arrow_dataset.Dataset"
      ]
     },
     "execution_count": 35,
     "metadata": {},
     "output_type": "execute_result"
    }
   ],
   "source": [
    "type(encoded_dataset['train'])"
   ]
  },
  {
   "cell_type": "code",
   "execution_count": 36,
   "metadata": {},
   "outputs": [
    {
     "name": "stderr",
     "output_type": "stream",
     "text": [
      "loading configuration file config.json from cache at /Users/vbelur/.cache/huggingface/hub/models--bert-base-uncased/snapshots/0a6aa9128b6194f4f3c4db429b6cb4891cdb421b/config.json\n",
      "Model config BertConfig {\n",
      "  \"_name_or_path\": \"bert-base-uncased\",\n",
      "  \"architectures\": [\n",
      "    \"BertForMaskedLM\"\n",
      "  ],\n",
      "  \"attention_probs_dropout_prob\": 0.1,\n",
      "  \"classifier_dropout\": null,\n",
      "  \"gradient_checkpointing\": false,\n",
      "  \"hidden_act\": \"gelu\",\n",
      "  \"hidden_dropout_prob\": 0.1,\n",
      "  \"hidden_size\": 768,\n",
      "  \"id2label\": {\n",
      "    \"0\": \"Self-direction: thought\",\n",
      "    \"1\": \"Self-direction: action\",\n",
      "    \"2\": \"Stimulation\",\n",
      "    \"3\": \"Hedonism\",\n",
      "    \"4\": \"Achievement\",\n",
      "    \"5\": \"Power: dominance\",\n",
      "    \"6\": \"Power: resources\",\n",
      "    \"7\": \"Face\",\n",
      "    \"8\": \"Security: personal\",\n",
      "    \"9\": \"Security: societal\",\n",
      "    \"10\": \"Tradition\",\n",
      "    \"11\": \"Conformity: rules\",\n",
      "    \"12\": \"Conformity: interpersonal\",\n",
      "    \"13\": \"Humility\",\n",
      "    \"14\": \"Benevolence: caring\",\n",
      "    \"15\": \"Benevolence: dependability\",\n",
      "    \"16\": \"Universalism: concern\",\n",
      "    \"17\": \"Universalism: nature\",\n",
      "    \"18\": \"Universalism: tolerance\",\n",
      "    \"19\": \"Universalism: objectivity\"\n",
      "  },\n",
      "  \"initializer_range\": 0.02,\n",
      "  \"intermediate_size\": 3072,\n",
      "  \"label2id\": {\n",
      "    \"Achievement\": 4,\n",
      "    \"Benevolence: caring\": 14,\n",
      "    \"Benevolence: dependability\": 15,\n",
      "    \"Conformity: interpersonal\": 12,\n",
      "    \"Conformity: rules\": 11,\n",
      "    \"Face\": 7,\n",
      "    \"Hedonism\": 3,\n",
      "    \"Humility\": 13,\n",
      "    \"Power: dominance\": 5,\n",
      "    \"Power: resources\": 6,\n",
      "    \"Security: personal\": 8,\n",
      "    \"Security: societal\": 9,\n",
      "    \"Self-direction: action\": 1,\n",
      "    \"Self-direction: thought\": 0,\n",
      "    \"Stimulation\": 2,\n",
      "    \"Tradition\": 10,\n",
      "    \"Universalism: concern\": 16,\n",
      "    \"Universalism: nature\": 17,\n",
      "    \"Universalism: objectivity\": 19,\n",
      "    \"Universalism: tolerance\": 18\n",
      "  },\n",
      "  \"layer_norm_eps\": 1e-12,\n",
      "  \"max_position_embeddings\": 512,\n",
      "  \"model_type\": \"bert\",\n",
      "  \"num_attention_heads\": 12,\n",
      "  \"num_hidden_layers\": 12,\n",
      "  \"pad_token_id\": 0,\n",
      "  \"position_embedding_type\": \"absolute\",\n",
      "  \"problem_type\": \"multi_label_classification\",\n",
      "  \"transformers_version\": \"4.25.1\",\n",
      "  \"type_vocab_size\": 2,\n",
      "  \"use_cache\": true,\n",
      "  \"vocab_size\": 30522\n",
      "}\n",
      "\n",
      "loading weights file pytorch_model.bin from cache at /Users/vbelur/.cache/huggingface/hub/models--bert-base-uncased/snapshots/0a6aa9128b6194f4f3c4db429b6cb4891cdb421b/pytorch_model.bin\n",
      "Some weights of the model checkpoint at bert-base-uncased were not used when initializing BertForSequenceClassification: ['cls.predictions.transform.dense.bias', 'cls.predictions.bias', 'cls.predictions.transform.dense.weight', 'cls.seq_relationship.bias', 'cls.seq_relationship.weight', 'cls.predictions.transform.LayerNorm.bias', 'cls.predictions.decoder.weight', 'cls.predictions.transform.LayerNorm.weight']\n",
      "- This IS expected if you are initializing BertForSequenceClassification from the checkpoint of a model trained on another task or with another architecture (e.g. initializing a BertForSequenceClassification model from a BertForPreTraining model).\n",
      "- This IS NOT expected if you are initializing BertForSequenceClassification from the checkpoint of a model that you expect to be exactly identical (initializing a BertForSequenceClassification model from a BertForSequenceClassification model).\n",
      "Some weights of BertForSequenceClassification were not initialized from the model checkpoint at bert-base-uncased and are newly initialized: ['classifier.weight', 'classifier.bias']\n",
      "You should probably TRAIN this model on a down-stream task to be able to use it for predictions and inference.\n"
     ]
    }
   ],
   "source": [
    "model = AutoModelForSequenceClassification.from_pretrained(\"bert-base-uncased\", \n",
    "                                                           problem_type=\"multi_label_classification\", \n",
    "                                                           num_labels=len(labels),\n",
    "                                                           id2label=id2label,\n",
    "                                                           label2id=label2id)"
   ]
  },
  {
   "cell_type": "code",
   "execution_count": 37,
   "metadata": {},
   "outputs": [],
   "source": [
    "from sklearn.metrics import f1_score, precision_score, recall_score, roc_auc_score, accuracy_score\n",
    "def compute_metrics(eval):\n",
    "    result = mlmetrics(\n",
    "        pred=eval.predictions, \n",
    "        y_true=eval.label_ids)\n",
    "    return result\n",
    "\n",
    "def mlmetrics(pred, y_true):\n",
    "    sigmoid = torch.nn.Sigmoid()\n",
    "    probs = sigmoid(torch.Tensor(pred))\n",
    "\n",
    "    y_pred = np.zeros(probs.shape)\n",
    "    y_pred[np.where(probs >= 0.5)] = 1\n",
    "    #can't sklearn.metrics.classification_report as huggingface expects string:int mapping, vs string:string.\n",
    "    precision_micro_average = precision_score(y_true=y_true, y_pred=y_pred, average='micro')\n",
    "    recall_micro_average = recall_score(y_true=y_true, y_pred=y_pred, average='micro')\n",
    "    f1_micro_average = f1_score(y_true=y_true, y_pred=y_pred, average='micro')\n",
    "    roc_auc = roc_auc_score(y_true, y_pred, average = 'micro')\n",
    "    accuracy = accuracy_score(y_true, y_pred)\n",
    "\n",
    "    metrics = {'p': precision_micro_average,\n",
    "               'r': recall_micro_average,\n",
    "               'f1': f1_micro_average,\n",
    "               'roc_auc': roc_auc,\n",
    "               'accuracy': accuracy}\n",
    "    return metrics"
   ]
  },
  {
   "cell_type": "code",
   "execution_count": 38,
   "metadata": {},
   "outputs": [
    {
     "data": {
      "application/vnd.jupyter.widget-view+json": {
       "model_id": "06e23ca3fa684785a85e68e990498926",
       "version_major": 2,
       "version_minor": 0
      },
      "text/plain": [
       "  0%|          | 0/1 [00:00<?, ?ba/s]"
      ]
     },
     "metadata": {},
     "output_type": "display_data"
    },
    {
     "name": "stdout",
     "output_type": "stream",
     "text": [
      "2\n"
     ]
    },
    {
     "data": {
      "application/vnd.jupyter.widget-view+json": {
       "model_id": "c38f1b1a2b764243892ef425683251e9",
       "version_major": 2,
       "version_minor": 0
      },
      "text/plain": [
       "  0%|          | 0/1 [00:00<?, ?ba/s]"
      ]
     },
     "metadata": {},
     "output_type": "display_data"
    },
    {
     "name": "stdout",
     "output_type": "stream",
     "text": [
      "2\n"
     ]
    },
    {
     "data": {
      "text/plain": [
       "DatasetDict({\n",
       "    train: Dataset({\n",
       "        features: ['input_ids', 'token_type_ids', 'attention_mask', 'labels'],\n",
       "        num_rows: 2\n",
       "    })\n",
       "    validation: Dataset({\n",
       "        features: ['input_ids', 'token_type_ids', 'attention_mask', 'labels'],\n",
       "        num_rows: 2\n",
       "    })\n",
       "})"
      ]
     },
     "execution_count": 38,
     "metadata": {},
     "output_type": "execute_result"
    }
   ],
   "source": [
    "test_train, test_valid = t_data[0:2], valid_data[0:2]\n",
    "td = Dataset.from_pandas(test_train)\n",
    "vd = Dataset.from_pandas(test_valid)\n",
    "datasetTest = DatasetDict({ \"train\": td, \"validation\": vd})\n",
    "e_d = datasetTest.map(preprocess, batched=True,remove_columns=datasetTest['train'].column_names)\n",
    "e_d\n",
    "# datasetTest['train'].column_names"
   ]
  },
  {
   "cell_type": "code",
   "execution_count": 39,
   "metadata": {},
   "outputs": [
    {
     "name": "stderr",
     "output_type": "stream",
     "text": [
      "PyTorch: setting up devices\n",
      "The default value for the training argument `--report_to` will change in v5 (from all installed integrations to none). In v5, you will need to use `--report_to all` to get the same behavior as now. You should start updating your code and make this info disappear :-).\n"
     ]
    }
   ],
   "source": [
    "LEARNING_RATE, BATCH_SIZE, EPOCHS = 1e-4, 8, 8\n",
    "\n",
    "training_args = TrainingArguments(\n",
    "    output_dir=\"camembert-fine-tuned\",\n",
    "    learning_rate=LEARNING_RATE,\n",
    "    per_device_train_batch_size=BATCH_SIZE,\n",
    "    per_device_eval_batch_size=BATCH_SIZE,\n",
    "    num_train_epochs=EPOCHS,\n",
    "    evaluation_strategy=\"epoch\",\n",
    "    save_strategy=\"epoch\",\n",
    "    save_total_limit=2,\n",
    "    metric_for_best_model=\"f1\",\n",
    "    load_best_model_at_end=True,\n",
    "    weight_decay=0.01,\n",
    ")\n",
    "\n",
    "trainer = Trainer(\n",
    "    model=model,\n",
    "    args=training_args,\n",
    "    train_dataset=encoded_dataset['train'],\n",
    "    eval_dataset=encoded_dataset['validation'],\n",
    "    compute_metrics=compute_metrics,\n",
    ")"
   ]
  },
  {
   "cell_type": "code",
   "execution_count": 40,
   "metadata": {},
   "outputs": [
    {
     "name": "stderr",
     "output_type": "stream",
     "text": [
      "/Library/Frameworks/Python.framework/Versions/3.10/lib/python3.10/site-packages/transformers/optimization.py:306: FutureWarning: This implementation of AdamW is deprecated and will be removed in a future version. Use the PyTorch implementation torch.optim.AdamW instead, or set `no_deprecation_warning=True` to disable this warning\n",
      "  warnings.warn(\n",
      "***** Running training *****\n",
      "  Num examples = 5220\n",
      "  Num Epochs = 8\n",
      "  Instantaneous batch size per device = 8\n",
      "  Total train batch size (w. parallel, distributed & accumulation) = 8\n",
      "  Gradient Accumulation steps = 1\n",
      "  Total optimization steps = 5224\n",
      "  Number of trainable parameters = 109497620\n"
     ]
    },
    {
     "data": {
      "application/vnd.jupyter.widget-view+json": {
       "model_id": "c07bd71f69ae459ea2dd0288ef7e562f",
       "version_major": 2,
       "version_minor": 0
      },
      "text/plain": [
       "  0%|          | 0/5224 [00:00<?, ?it/s]"
      ]
     },
     "metadata": {},
     "output_type": "display_data"
    },
    {
     "name": "stdout",
     "output_type": "stream",
     "text": [
      "{'loss': 0.38, 'learning_rate': 9.042879019908117e-05, 'epoch': 0.77}\n"
     ]
    },
    {
     "name": "stderr",
     "output_type": "stream",
     "text": [
      "***** Running Evaluation *****\n",
      "  Num examples = 1896\n",
      "  Batch size = 8\n"
     ]
    },
    {
     "data": {
      "application/vnd.jupyter.widget-view+json": {
       "model_id": "e6a086a3483141009b190fb69ddbd594",
       "version_major": 2,
       "version_minor": 0
      },
      "text/plain": [
       "  0%|          | 0/237 [00:00<?, ?it/s]"
      ]
     },
     "metadata": {},
     "output_type": "display_data"
    },
    {
     "name": "stderr",
     "output_type": "stream",
     "text": [
      "Saving model checkpoint to camembert-fine-tuned/checkpoint-653\n",
      "Configuration saved in camembert-fine-tuned/checkpoint-653/config.json\n"
     ]
    },
    {
     "name": "stdout",
     "output_type": "stream",
     "text": [
      "{'eval_loss': 0.33303865790367126, 'eval_p': 0.6999025657681065, 'eval_r': 0.33888976254128006, 'eval_f1': 0.4566645475736385, 'eval_roc_auc': 0.6548065618257555, 'eval_accuracy': 0.06962025316455696, 'eval_runtime': 417.5587, 'eval_samples_per_second': 4.541, 'eval_steps_per_second': 0.568, 'epoch': 1.0}\n"
     ]
    },
    {
     "name": "stderr",
     "output_type": "stream",
     "text": [
      "Model weights saved in camembert-fine-tuned/checkpoint-653/pytorch_model.bin\n"
     ]
    },
    {
     "name": "stdout",
     "output_type": "stream",
     "text": [
      "{'loss': 0.3311, 'learning_rate': 8.085758039816234e-05, 'epoch': 1.53}\n"
     ]
    },
    {
     "name": "stderr",
     "output_type": "stream",
     "text": [
      "***** Running Evaluation *****\n",
      "  Num examples = 1896\n",
      "  Batch size = 8\n"
     ]
    },
    {
     "data": {
      "application/vnd.jupyter.widget-view+json": {
       "model_id": "eed8122cb3f64982a8d3fb8080ba46e9",
       "version_major": 2,
       "version_minor": 0
      },
      "text/plain": [
       "  0%|          | 0/237 [00:00<?, ?it/s]"
      ]
     },
     "metadata": {},
     "output_type": "display_data"
    },
    {
     "name": "stderr",
     "output_type": "stream",
     "text": [
      "Saving model checkpoint to camembert-fine-tuned/checkpoint-1306\n",
      "Configuration saved in camembert-fine-tuned/checkpoint-1306/config.json\n"
     ]
    },
    {
     "name": "stdout",
     "output_type": "stream",
     "text": [
      "{'eval_loss': 0.30148008465766907, 'eval_p': 0.7445853143159007, 'eval_r': 0.44330869633590186, 'eval_f1': 0.5557417447018236, 'eval_roc_auc': 0.7063348082294192, 'eval_accuracy': 0.11128691983122363, 'eval_runtime': 94.7929, 'eval_samples_per_second': 20.002, 'eval_steps_per_second': 2.5, 'epoch': 2.0}\n"
     ]
    },
    {
     "name": "stderr",
     "output_type": "stream",
     "text": [
      "Model weights saved in camembert-fine-tuned/checkpoint-1306/pytorch_model.bin\n"
     ]
    },
    {
     "name": "stdout",
     "output_type": "stream",
     "text": [
      "{'loss': 0.2945, 'learning_rate': 7.12863705972435e-05, 'epoch': 2.3}\n"
     ]
    },
    {
     "name": "stderr",
     "output_type": "stream",
     "text": [
      "***** Running Evaluation *****\n",
      "  Num examples = 1896\n",
      "  Batch size = 8\n"
     ]
    },
    {
     "data": {
      "application/vnd.jupyter.widget-view+json": {
       "model_id": "031004f1c9504ab39596fde541f89fa1",
       "version_major": 2,
       "version_minor": 0
      },
      "text/plain": [
       "  0%|          | 0/237 [00:00<?, ?it/s]"
      ]
     },
     "metadata": {},
     "output_type": "display_data"
    },
    {
     "name": "stderr",
     "output_type": "stream",
     "text": [
      "Saving model checkpoint to camembert-fine-tuned/checkpoint-1959\n",
      "Configuration saved in camembert-fine-tuned/checkpoint-1959/config.json\n"
     ]
    },
    {
     "name": "stdout",
     "output_type": "stream",
     "text": [
      "{'eval_loss': 0.27296510338783264, 'eval_p': 0.7732404515974057, 'eval_r': 0.5062116685013367, 'eval_f1': 0.611860862953811, 'eval_roc_auc': 0.7381506680645527, 'eval_accuracy': 0.14662447257383968, 'eval_runtime': 99.7352, 'eval_samples_per_second': 19.01, 'eval_steps_per_second': 2.376, 'epoch': 3.0}\n"
     ]
    },
    {
     "name": "stderr",
     "output_type": "stream",
     "text": [
      "Model weights saved in camembert-fine-tuned/checkpoint-1959/pytorch_model.bin\n",
      "Deleting older checkpoint [camembert-fine-tuned/checkpoint-653] due to args.save_total_limit\n"
     ]
    },
    {
     "name": "stdout",
     "output_type": "stream",
     "text": [
      "{'loss': 0.2618, 'learning_rate': 6.171516079632466e-05, 'epoch': 3.06}\n",
      "{'loss': 0.2157, 'learning_rate': 5.214395099540582e-05, 'epoch': 3.83}\n"
     ]
    },
    {
     "name": "stderr",
     "output_type": "stream",
     "text": [
      "***** Running Evaluation *****\n",
      "  Num examples = 1896\n",
      "  Batch size = 8\n"
     ]
    },
    {
     "data": {
      "application/vnd.jupyter.widget-view+json": {
       "model_id": "147b7824a74b4fdb910233c372da43d5",
       "version_major": 2,
       "version_minor": 0
      },
      "text/plain": [
       "  0%|          | 0/237 [00:00<?, ?it/s]"
      ]
     },
     "metadata": {},
     "output_type": "display_data"
    },
    {
     "name": "stderr",
     "output_type": "stream",
     "text": [
      "Saving model checkpoint to camembert-fine-tuned/checkpoint-2612\n",
      "Configuration saved in camembert-fine-tuned/checkpoint-2612/config.json\n"
     ]
    },
    {
     "name": "stdout",
     "output_type": "stream",
     "text": [
      "{'eval_loss': 0.24539560079574585, 'eval_p': 0.7609132420091325, 'eval_r': 0.6551344551030036, 'eval_f1': 0.7040730099712692, 'eval_roc_auc': 0.8068296083379154, 'eval_accuracy': 0.2399789029535865, 'eval_runtime': 100.6533, 'eval_samples_per_second': 18.837, 'eval_steps_per_second': 2.355, 'epoch': 4.0}\n"
     ]
    },
    {
     "name": "stderr",
     "output_type": "stream",
     "text": [
      "Model weights saved in camembert-fine-tuned/checkpoint-2612/pytorch_model.bin\n",
      "Deleting older checkpoint [camembert-fine-tuned/checkpoint-1306] due to args.save_total_limit\n"
     ]
    },
    {
     "name": "stdout",
     "output_type": "stream",
     "text": [
      "{'loss': 0.1747, 'learning_rate': 4.257274119448699e-05, 'epoch': 4.59}\n"
     ]
    },
    {
     "name": "stderr",
     "output_type": "stream",
     "text": [
      "***** Running Evaluation *****\n",
      "  Num examples = 1896\n",
      "  Batch size = 8\n"
     ]
    },
    {
     "data": {
      "application/vnd.jupyter.widget-view+json": {
       "model_id": "cd1ed4cc2fa24cada509bcdc1325ad90",
       "version_major": 2,
       "version_minor": 0
      },
      "text/plain": [
       "  0%|          | 0/237 [00:00<?, ?it/s]"
      ]
     },
     "metadata": {},
     "output_type": "display_data"
    },
    {
     "name": "stderr",
     "output_type": "stream",
     "text": [
      "Saving model checkpoint to camembert-fine-tuned/checkpoint-3265\n",
      "Configuration saved in camembert-fine-tuned/checkpoint-3265/config.json\n"
     ]
    },
    {
     "name": "stdout",
     "output_type": "stream",
     "text": [
      "{'eval_loss': 0.2281559556722641, 'eval_p': 0.8025349008082292, 'eval_r': 0.6870577134769618, 'eval_f1': 0.7403202575616368, 'eval_roc_auc': 0.8264983443973003, 'eval_accuracy': 0.32542194092827004, 'eval_runtime': 183.5347, 'eval_samples_per_second': 10.33, 'eval_steps_per_second': 1.291, 'epoch': 5.0}\n"
     ]
    },
    {
     "name": "stderr",
     "output_type": "stream",
     "text": [
      "Model weights saved in camembert-fine-tuned/checkpoint-3265/pytorch_model.bin\n",
      "Deleting older checkpoint [camembert-fine-tuned/checkpoint-1959] due to args.save_total_limit\n"
     ]
    },
    {
     "name": "stdout",
     "output_type": "stream",
     "text": [
      "{'loss': 0.1406, 'learning_rate': 3.3001531393568144e-05, 'epoch': 5.36}\n"
     ]
    },
    {
     "name": "stderr",
     "output_type": "stream",
     "text": [
      "***** Running Evaluation *****\n",
      "  Num examples = 1896\n",
      "  Batch size = 8\n"
     ]
    },
    {
     "data": {
      "application/vnd.jupyter.widget-view+json": {
       "model_id": "f6d7d26b98064106bdee26c4cc7790cb",
       "version_major": 2,
       "version_minor": 0
      },
      "text/plain": [
       "  0%|          | 0/237 [00:00<?, ?it/s]"
      ]
     },
     "metadata": {},
     "output_type": "display_data"
    },
    {
     "name": "stderr",
     "output_type": "stream",
     "text": [
      "Saving model checkpoint to camembert-fine-tuned/checkpoint-3918\n",
      "Configuration saved in camembert-fine-tuned/checkpoint-3918/config.json\n"
     ]
    },
    {
     "name": "stdout",
     "output_type": "stream",
     "text": [
      "{'eval_loss': 0.21787315607070923, 'eval_p': 0.8214096449390567, 'eval_r': 0.7312470514231797, 'eval_f1': 0.7737104825291181, 'eval_roc_auc': 0.8496069229423493, 'eval_accuracy': 0.43037974683544306, 'eval_runtime': 77.9091, 'eval_samples_per_second': 24.336, 'eval_steps_per_second': 3.042, 'epoch': 6.0}\n"
     ]
    },
    {
     "name": "stderr",
     "output_type": "stream",
     "text": [
      "Model weights saved in camembert-fine-tuned/checkpoint-3918/pytorch_model.bin\n",
      "Deleting older checkpoint [camembert-fine-tuned/checkpoint-2612] due to args.save_total_limit\n"
     ]
    },
    {
     "name": "stdout",
     "output_type": "stream",
     "text": [
      "{'loss': 0.1099, 'learning_rate': 2.343032159264931e-05, 'epoch': 6.13}\n",
      "{'loss': 0.0839, 'learning_rate': 1.3859111791730475e-05, 'epoch': 6.89}\n"
     ]
    },
    {
     "name": "stderr",
     "output_type": "stream",
     "text": [
      "***** Running Evaluation *****\n",
      "  Num examples = 1896\n",
      "  Batch size = 8\n"
     ]
    },
    {
     "data": {
      "application/vnd.jupyter.widget-view+json": {
       "model_id": "11fc0e6172754b0fbedf56760d01de88",
       "version_major": 2,
       "version_minor": 0
      },
      "text/plain": [
       "  0%|          | 0/237 [00:00<?, ?it/s]"
      ]
     },
     "metadata": {},
     "output_type": "display_data"
    },
    {
     "name": "stderr",
     "output_type": "stream",
     "text": [
      "Saving model checkpoint to camembert-fine-tuned/checkpoint-4571\n",
      "Configuration saved in camembert-fine-tuned/checkpoint-4571/config.json\n"
     ]
    },
    {
     "name": "stdout",
     "output_type": "stream",
     "text": [
      "{'eval_loss': 0.21339461207389832, 'eval_p': 0.8288579197824609, 'eval_r': 0.766944488127064, 'eval_f1': 0.7967001551907213, 'eval_roc_auc': 0.8675190106425377, 'eval_accuracy': 0.5216244725738397, 'eval_runtime': 78.8953, 'eval_samples_per_second': 24.032, 'eval_steps_per_second': 3.004, 'epoch': 7.0}\n"
     ]
    },
    {
     "name": "stderr",
     "output_type": "stream",
     "text": [
      "Model weights saved in camembert-fine-tuned/checkpoint-4571/pytorch_model.bin\n",
      "Deleting older checkpoint [camembert-fine-tuned/checkpoint-3265] due to args.save_total_limit\n"
     ]
    },
    {
     "name": "stdout",
     "output_type": "stream",
     "text": [
      "{'loss': 0.0654, 'learning_rate': 4.287901990811639e-06, 'epoch': 7.66}\n"
     ]
    },
    {
     "name": "stderr",
     "output_type": "stream",
     "text": [
      "***** Running Evaluation *****\n",
      "  Num examples = 1896\n",
      "  Batch size = 8\n"
     ]
    },
    {
     "data": {
      "application/vnd.jupyter.widget-view+json": {
       "model_id": "234aad0ad96940e6b5082ea1d08dc4c8",
       "version_major": 2,
       "version_minor": 0
      },
      "text/plain": [
       "  0%|          | 0/237 [00:00<?, ?it/s]"
      ]
     },
     "metadata": {},
     "output_type": "display_data"
    },
    {
     "name": "stderr",
     "output_type": "stream",
     "text": [
      "Saving model checkpoint to camembert-fine-tuned/checkpoint-5224\n",
      "Configuration saved in camembert-fine-tuned/checkpoint-5224/config.json\n"
     ]
    },
    {
     "name": "stdout",
     "output_type": "stream",
     "text": [
      "{'eval_loss': 0.2125193327665329, 'eval_p': 0.8277134708941453, 'eval_r': 0.7759081616606385, 'eval_f1': 0.800974025974026, 'eval_roc_auc': 0.8716840006680937, 'eval_accuracy': 0.5453586497890295, 'eval_runtime': 78.3465, 'eval_samples_per_second': 24.2, 'eval_steps_per_second': 3.025, 'epoch': 8.0}\n"
     ]
    },
    {
     "name": "stderr",
     "output_type": "stream",
     "text": [
      "Model weights saved in camembert-fine-tuned/checkpoint-5224/pytorch_model.bin\n",
      "Deleting older checkpoint [camembert-fine-tuned/checkpoint-3918] due to args.save_total_limit\n",
      "\n",
      "\n",
      "Training completed. Do not forget to share your model on huggingface.co/models =)\n",
      "\n",
      "\n",
      "Loading best model from camembert-fine-tuned/checkpoint-5224 (score: 0.800974025974026).\n"
     ]
    },
    {
     "name": "stdout",
     "output_type": "stream",
     "text": [
      "{'train_runtime': 8971.4852, 'train_samples_per_second': 4.655, 'train_steps_per_second': 0.582, 'train_loss': 0.19963790008521554, 'epoch': 8.0}\n"
     ]
    },
    {
     "data": {
      "text/plain": [
       "TrainOutput(global_step=5224, training_loss=0.19963790008521554, metrics={'train_runtime': 8971.4852, 'train_samples_per_second': 4.655, 'train_steps_per_second': 0.582, 'train_loss': 0.19963790008521554, 'epoch': 8.0})"
      ]
     },
     "execution_count": 40,
     "metadata": {},
     "output_type": "execute_result"
    }
   ],
   "source": [
    "trainer.train()"
   ]
  },
  {
   "cell_type": "code",
   "execution_count": 41,
   "metadata": {},
   "outputs": [
    {
     "name": "stderr",
     "output_type": "stream",
     "text": [
      "***** Running Evaluation *****\n",
      "  Num examples = 1896\n",
      "  Batch size = 8\n"
     ]
    },
    {
     "data": {
      "application/vnd.jupyter.widget-view+json": {
       "model_id": "635217f68d474d93921946d72ddd6f2a",
       "version_major": 2,
       "version_minor": 0
      },
      "text/plain": [
       "  0%|          | 0/237 [00:00<?, ?it/s]"
      ]
     },
     "metadata": {},
     "output_type": "display_data"
    }
   ],
   "source": [
    "results = trainer.evaluate()\n"
   ]
  },
  {
   "cell_type": "code",
   "execution_count": 42,
   "metadata": {},
   "outputs": [
    {
     "data": {
      "text/plain": [
       "{'eval_loss': 0.2125193327665329,\n",
       " 'eval_p': 0.8277134708941453,\n",
       " 'eval_r': 0.7759081616606385,\n",
       " 'eval_f1': 0.800974025974026,\n",
       " 'eval_roc_auc': 0.8716840006680937,\n",
       " 'eval_accuracy': 0.5453586497890295,\n",
       " 'eval_runtime': 71.4478,\n",
       " 'eval_samples_per_second': 26.537,\n",
       " 'eval_steps_per_second': 3.317,\n",
       " 'epoch': 8.0}"
      ]
     },
     "execution_count": 42,
     "metadata": {},
     "output_type": "execute_result"
    }
   ],
   "source": [
    "results"
   ]
  },
  {
   "cell_type": "code",
   "execution_count": null,
   "metadata": {},
   "outputs": [],
   "source": [
    "test_sentence = \"I am so happy to be able to train this model\"\n",
    "encoding = "
   ]
  },
  {
   "cell_type": "markdown",
   "metadata": {},
   "source": []
  },
  {
   "cell_type": "markdown",
   "metadata": {},
   "source": []
  }
 ],
 "metadata": {
  "kernelspec": {
   "display_name": "Python 3.10.6 64-bit",
   "language": "python",
   "name": "python3"
  },
  "language_info": {
   "codemirror_mode": {
    "name": "ipython",
    "version": 3
   },
   "file_extension": ".py",
   "mimetype": "text/x-python",
   "name": "python",
   "nbconvert_exporter": "python",
   "pygments_lexer": "ipython3",
   "version": "3.10.6"
  },
  "orig_nbformat": 4,
  "vscode": {
   "interpreter": {
    "hash": "aee8b7b246df8f9039afb4144a1f6fd8d2ca17a180786b69acc140d282b71a49"
   }
  }
 },
 "nbformat": 4,
 "nbformat_minor": 2
}
